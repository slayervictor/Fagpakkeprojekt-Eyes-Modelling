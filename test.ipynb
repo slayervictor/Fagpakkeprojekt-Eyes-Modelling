{
 "cells": [
  {
   "cell_type": "code",
   "execution_count": 20,
   "metadata": {},
   "outputs": [
    {
     "name": "stdout",
     "output_type": "stream",
     "text": [
      "[[0, 0, 1]]\n",
      "[[0, 1, 2]]\n",
      "[[1, 1, 3]]\n",
      "[[1, 0, 4]]\n",
      "[[0, 0, 5]]\n",
      "[[0, 1, 6]]\n",
      "[[1, 1, 7]]\n",
      "[[1, 0, 8]]\n",
      "[[0, 0, 9]]\n",
      "[[0, 1, 10]]\n"
     ]
    }
   ],
   "source": [
    "def modStuff(tp,fontBool):\n",
    "    if fontBool:\n",
    "        if tp%4 == 0:\n",
    "            return 0\n",
    "        elif tp%4 == 1: \n",
    "            return 0\n",
    "        elif tp%4 == 2:\n",
    "            return 1\n",
    "        elif tp%4 == 3:\n",
    "            return 1\n",
    "    else:\n",
    "        if tp%4 == 0:\n",
    "            return 1\n",
    "        elif tp%4 == 1: \n",
    "            return 0\n",
    "        elif tp%4 == 2:\n",
    "            return 0\n",
    "        elif tp%4 == 3:\n",
    "            return 1\n",
    "\n",
    "\n",
    "\n",
    "for i in range(1,11):\n",
    "    print( [[modStuff(i,False),modStuff(i,True),i]])"
   ]
  },
  {
   "cell_type": "code",
   "execution_count": 37,
   "metadata": {},
   "outputs": [
    {
     "name": "stdout",
     "output_type": "stream",
     "text": [
      "[[0, 0, 1]]\n",
      "[[1, 0, 2]]\n",
      "[[1, 1, 3]]\n",
      "[[0, 1, 4]]\n",
      "[[0, 0, 5]]\n",
      "[[1, 0, 6]]\n",
      "[[1, 1, 7]]\n",
      "[[0, 1, 8]]\n",
      "[[0, 0, 9]]\n",
      "[[1, 0, 10]]\n",
      "[[1, 1, 1]]\n",
      "[[0, 1, 2]]\n",
      "[[0, 0, 3]]\n",
      "[[1, 0, 4]]\n",
      "[[1, 1, 5]]\n",
      "[[0, 1, 6]]\n",
      "[[0, 0, 7]]\n",
      "[[1, 0, 8]]\n",
      "[[1, 1, 9]]\n",
      "[[0, 1, 10]]\n"
     ]
    }
   ],
   "source": [
    "def modStuff(tp,fontBool):\n",
    "    if tp <= 10:\n",
    "        if fontBool:\n",
    "            if tp%4 == 0:\n",
    "                return 0\n",
    "            elif tp%4 == 1: \n",
    "                return 0\n",
    "            elif tp%4 == 2:\n",
    "                return 1\n",
    "            elif tp%4 == 3:\n",
    "                return 1\n",
    "        else:\n",
    "            if tp%4 == 0:\n",
    "                return 1\n",
    "            elif tp%4 == 1: \n",
    "                return 0\n",
    "            elif tp%4 == 2:\n",
    "                return 0\n",
    "            elif tp%4 == 3:\n",
    "                return 1\n",
    "    else:\n",
    "        tp = tp-10\n",
    "        if fontBool:\n",
    "            if tp%4 == 0:\n",
    "                return 1\n",
    "            elif tp%4 == 1: \n",
    "                return 1\n",
    "            elif tp%4 == 2:\n",
    "                return 0\n",
    "            elif tp%4 == 3:\n",
    "                return 0\n",
    "        else:\n",
    "            if tp%4 == 0:\n",
    "                return 0\n",
    "            elif tp%4 == 1: \n",
    "                return 1\n",
    "            elif tp%4 == 2:\n",
    "                return 1\n",
    "            elif tp%4 == 3:\n",
    "                return 0\n",
    "\n",
    "\n",
    "def over10ReturnMinus10(ti):\n",
    "    if ti > 10:\n",
    "        return ti-10\n",
    "    else:\n",
    "        return ti\n",
    "\n",
    "\n",
    "\n",
    "for i in range(1,21):\n",
    "    print( [[modStuff(i,True),modStuff(i,False),over10ReturnMinus10(i)]])\n",
    "\n"
   ]
  }
 ],
 "metadata": {
  "kernelspec": {
   "display_name": "eye_experiment",
   "language": "python",
   "name": "python3"
  },
  "language_info": {
   "codemirror_mode": {
    "name": "ipython",
    "version": 3
   },
   "file_extension": ".py",
   "mimetype": "text/x-python",
   "name": "python",
   "nbconvert_exporter": "python",
   "pygments_lexer": "ipython3",
   "version": "3.10.14"
  }
 },
 "nbformat": 4,
 "nbformat_minor": 2
}
