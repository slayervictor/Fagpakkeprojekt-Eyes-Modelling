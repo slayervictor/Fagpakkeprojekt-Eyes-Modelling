{
 "cells": [
  {
   "cell_type": "code",
   "execution_count": 17,
   "metadata": {},
   "outputs": [],
   "source": [
    "import pandas as pd\n",
    "import numpy as np\n",
    "\n",
    "# List to hold all dataframes\n",
    "dataframes_list = []\n",
    "\n",
    "# Loop through the file names\n",
    "for i in range(1, 21):\n",
    "    # Read each file\n",
    "    file_path = f\"x_data_{i}.csv\"  # Modify the file path as necessary\n",
    "    data = pd.read_csv(file_path)\n",
    "\n",
    "    # Find the indices where a new dataframe starts\n",
    "    split_indices = data[data['device_time_stamp'] == 0.0].index\n",
    "\n",
    "    # Add the first split\n",
    "    if len(split_indices) > 0:\n",
    "        start_index = 0\n",
    "        for index in split_indices:\n",
    "            df = data.iloc[start_index:index]\n",
    "            if not df.empty:\n",
    "                dataframes_list.append(df)\n",
    "            start_index = index\n",
    "        # Add the last segment after the last 0.0 timestamp\n",
    "        last_df = data.iloc[start_index:]\n",
    "        if not last_df.empty:\n",
    "            dataframes_list.append(last_df)\n",
    "\n",
    "# Convert list of dataframes to a numpy array\n",
    "dataframes_array = np.array(dataframes_list, dtype=object)\n",
    "\n",
    "# Optionally, save this numpy array using numpy's save function\n",
    "np.save('x_data.npy', dataframes_array)\n"
   ]
  },
  {
   "cell_type": "code",
   "execution_count": 18,
   "metadata": {},
   "outputs": [],
   "source": [
    "# Initialize an empty list to hold the data from each file\n",
    "labels_list = []\n",
    "\n",
    "# Loop through the file names\n",
    "for i in range(1, 21):\n",
    "    # Construct the file path\n",
    "    file_path = f\"y_label_{i}.csv\"  # Adjust the path if the files are in a different directory\n",
    "\n",
    "    # Read the labels file\n",
    "    # Assuming each file contains a single column of labels without a header\n",
    "    labels = pd.read_csv(file_path, header=None)\n",
    "    \n",
    "    # Append the DataFrame to the list\n",
    "    labels_list.append(labels)\n",
    "\n",
    "# Concatenate all DataFrames in the list into a single DataFrame\n",
    "all_labels = pd.concat(labels_list, ignore_index=True)\n",
    "\n",
    "# Convert the DataFrame to a numpy array\n",
    "labels_array = all_labels.squeeze().to_numpy()\n",
    "\n",
    "# Save the numpy array to an .npy file\n",
    "np.save('y_label.npy', labels_array)\n",
    "\n",
    "\n"
   ]
  },
  {
   "cell_type": "code",
   "execution_count": 19,
   "metadata": {},
   "outputs": [
    {
     "name": "stdout",
     "output_type": "stream",
     "text": [
      "Type of the loaded object: <class 'numpy.ndarray'>\n",
      "Shape of the numpy array: (1228,)\n"
     ]
    }
   ],
   "source": [
    "dataframes_array = np.load('x_data.npy', allow_pickle=True)\n",
    "\n",
    "# Check the type and shape of the numpy array\n",
    "print(\"Type of the loaded object:\", type(dataframes_array))\n",
    "print(\"Shape of the numpy array:\", dataframes_array.shape)"
   ]
  },
  {
   "cell_type": "code",
   "execution_count": 21,
   "metadata": {},
   "outputs": [
    {
     "name": "stdout",
     "output_type": "stream",
     "text": [
      "Type of the loaded object: <class 'numpy.ndarray'>\n",
      "Shape of the numpy array: (1228,)\n"
     ]
    }
   ],
   "source": [
    "Labels = np.load('y_label.npy', allow_pickle=True)\n",
    "\n",
    "# Check the type and shape of the numpy array\n",
    "print(\"Type of the loaded object:\", type(Labels))\n",
    "print(\"Shape of the numpy array:\", Labels.shape)"
   ]
  }
 ],
 "metadata": {
  "kernelspec": {
   "display_name": "Python 3",
   "language": "python",
   "name": "python3"
  },
  "language_info": {
   "name": "python",
   "version": "3.9.12"
  }
 },
 "nbformat": 4,
 "nbformat_minor": 2
}
