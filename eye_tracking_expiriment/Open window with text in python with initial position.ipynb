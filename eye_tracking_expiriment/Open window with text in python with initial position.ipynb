{
 "cells": [
  {
   "cell_type": "code",
   "execution_count": 5,
   "metadata": {},
   "outputs": [],
   "source": [
    "import tkinter as tk\n",
    "from itertools import cycle\n",
    "\n",
    "# Read texts from a file\n",
    "with open('text.txt', 'r') as file:\n",
    "    texts = [line.strip() for line in file.readlines()]\n",
    "texts = cycle(texts)\n",
    "\n",
    "# Assuming these are your desired font sizes and families\n",
    "font_sizes = cycle([24, 30, 36, 42, 48])\n",
    "font_families = cycle([\"Arial\", \"Verdana\", \"CustomFontName1\"])  # Example custom fonts\n",
    "\n",
    "# Create the main window\n",
    "root = tk.Tk()\n",
    "root.title(\"Text Display\")\n",
    "root.geometry(\"800x600\")\n",
    "root.resizable(False, False)\n",
    "\n",
    "# Create a Canvas widget\n",
    "canvas = tk.Canvas(root, width=800, height=600)\n",
    "canvas.pack()\n",
    "\n",
    "# Initial text, size, and family\n",
    "current_text = next(texts)\n",
    "current_size = next(font_sizes)\n",
    "current_family = next(font_families)\n",
    "\n",
    "# Initial position for the text (e.g., 100 pixels from the top and 50 pixels from the left)\n",
    "x_position = 50\n",
    "y_position = 100\n",
    "\n",
    "# Function to draw the text on the canvas\n",
    "def draw_text(text, font_family, font_size, x, y):\n",
    "    canvas.delete(\"all\")  # Clear previous text\n",
    "    canvas.create_text(x, y, text=text, anchor=\"nw\", font=(font_family, font_size))\n",
    "\n",
    "# Initial drawing\n",
    "draw_text(current_text, current_family, current_size, x_position, y_position)\n",
    "\n",
    "# Function to update text, size, and family\n",
    "def update_content(event):\n",
    "    global current_text, current_size, current_family\n",
    "    current_text = next(texts)\n",
    "    current_size = next(font_sizes)\n",
    "    current_family = next(font_families)\n",
    "    # Extract first word\n",
    "    first_word = current_text.split(' ')[0] if ' ' in current_text else current_text\n",
    "    draw_text(first_word, current_family, current_size, x_position, y_position)\n",
    "\n",
    "# Bind the spacebar key to the update_content function\n",
    "root.bind('<space>', update_content)\n",
    "\n",
    "# Start the GUI event loop\n",
    "root.mainloop()\n"
   ]
  }
 ],
 "metadata": {
  "kernelspec": {
   "display_name": "Python 3",
   "language": "python",
   "name": "python3"
  },
  "language_info": {
   "codemirror_mode": {
    "name": "ipython",
    "version": 3
   },
   "file_extension": ".py",
   "mimetype": "text/x-python",
   "name": "python",
   "nbconvert_exporter": "python",
   "pygments_lexer": "ipython3",
   "version": "3.9.13"
  }
 },
 "nbformat": 4,
 "nbformat_minor": 2
}
