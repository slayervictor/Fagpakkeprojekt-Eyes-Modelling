{
 "cells": [
  {
   "cell_type": "code",
   "execution_count": null,
   "metadata": {},
   "outputs": [],
   "source": [
    "import numpy as np\n",
    "\n",
    "# Load the features and labels\n",
    "features_array = np.load('x_data.npy', allow_pickle=True)\n",
    "labels_array = np.load('y_label.npy',  allow_pickle=True)\n"
   ]
  },
  {
   "cell_type": "code",
   "execution_count": null,
   "metadata": {},
   "outputs": [],
   "source": [
    "lix = [[\"AI_HC_P01\",42],[\"AI_HC_P02\",42],[\"AI_HC_P03\",46],[\"AI_HC_P04\",37],[\"AI_HC_P05\",38],[\"AI_HC_P06\",39],[\"AI_HC_P07\",25],[\"AI_HC_P08\",26],[\"AI_HC_P09\",36],[\"AI_HC_P10\",33],\n",
    "       [\"AI_KB_P01\",47],[\"AI_KB_P02\",44],[\"AI_KB_P03\",47],[\"AI_KB_P04\",37],[\"AI_KB_P05\",43],[\"AI_KB_P06\",43],[\"AI_KB_P07\",44],[\"AI_KB_P08\",47],[\"AI_KB_P09\",46],[\"AI_KB_P10\",45],\n",
    "       [\"AI_SK_P01\",44],[\"AI_SK_P02\",43],[\"AI_SK_P03\",41],[\"AI_SK_P04\",43],[\"AI_SK_P05\",39],[\"AI_SK_P06\",44],[\"AI_SK_P07\",41],[\"AI_SK_P08\",34],[\"AI_SK_P09\",31],[\"AI_SK_P10\",31],\n",
    "       [\"OR_HC_P01\",28],[\"OR_HC_P02\",28],[\"OR_HC_P03\",37],[\"OR_HC_P04\",33],[\"OR_HC_P05\",46],[\"OR_HC_P06\",29],[\"OR_HC_P07\",29],[\"OR_HC_P08\",32],[\"OR_HC_P09\",31],[\"OR_HC_P10\",29],\n",
    "       [\"OR_KB_P01\",45],[\"OR_KB_P02\",64],[\"OR_KB_P03\",49],[\"OR_KB_P04\",49],[\"OR_KB_P05\",46],[\"OR_KB_P06\",51],[\"OR_KB_P07\",49],[\"OR_KB_P08\",40],[\"OR_KB_P09\",37],[\"OR_KB_P10\",38],\n",
    "       [\"OR_SK_P01\",39],[\"OR_SK_P02\",53],[\"OR_SK_P03\",48],[\"OR_SK_P04\",43],[\"OR_SK_P05\",39],[\"OR_SK_P06\",46],[\"OR_SK_P07\",46],[\"OR_SK_P08\",47],[\"OR_SK_P09\",37],[\"OR_SK_P10\",44]]\n",
    "\n",
    "# Convert the matrix to a dictionary for quick lookup\n",
    "lix_dict = {item[0]: item[1] for item in lix}\n"
   ]
  },
  {
   "cell_type": "code",
   "execution_count": null,
   "metadata": {},
   "outputs": [],
   "source": [
    "def determine_difficulty(value):\n",
    "    if value > 55:\n",
    "        return \"really hard\"\n",
    "    elif 45 <= value <= 54:\n",
    "        return \"hard\"\n",
    "    elif 35 <= value <= 44:\n",
    "        return \"normal\"\n",
    "    elif 25 <= value <= 34:\n",
    "        return \"easy\"\n",
    "    else:\n",
    "        return \"really easy\"\n"
   ]
  },
  {
   "cell_type": "code",
   "execution_count": null,
   "metadata": {},
   "outputs": [],
   "source": [
    "# Updated labels list\n",
    "updated_labels = []\n",
    "\n",
    "for df, label in zip(features_array, labels_array):\n",
    "    # Assuming 'text_file' is the identifier in each dataframe's column\n",
    "    identifier = df['text_file'].iloc[0]  # Get the first value of 'text_file' column\n",
    "    difficulty_level = determine_difficulty(lix_dict[identifier])\n",
    "    new_label = f\"{label} - {difficulty_level}\"\n",
    "    updated_labels.append(new_label)\n",
    "\n",
    "# Convert updated labels list to numpy array and save\n",
    "updated_labels_array = np.array(updated_labels)\n",
    "np.save('y_label.npy', updated_labels_array)\n"
   ]
  }
 ],
 "metadata": {
  "language_info": {
   "name": "python"
  }
 },
 "nbformat": 4,
 "nbformat_minor": 2
}
