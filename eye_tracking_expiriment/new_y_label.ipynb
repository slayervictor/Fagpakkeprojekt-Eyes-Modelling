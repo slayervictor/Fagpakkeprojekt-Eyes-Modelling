{
 "cells": [
  {
   "cell_type": "code",
   "execution_count": 9,
   "metadata": {},
   "outputs": [],
   "source": [
    "import numpy as np\n",
    "\n",
    "# Load the features and labels\n",
    "features_array = np.load('x_data.npy', allow_pickle=True)\n",
    "labels_array = np.load('y_label.npy',  allow_pickle=True)\n"
   ]
  },
  {
   "cell_type": "code",
   "execution_count": 10,
   "metadata": {},
   "outputs": [],
   "source": [
    "lix = [\n",
    "    [\"AI_HC_P01_text.txt\", 42], [\"AI_HC_P02_text.txt\", 42], [\"AI_HC_P03_text.txt\", 46], [\"AI_HC_P04_text.txt\", 37], [\"AI_HC_P05_text.txt\", 38], [\"AI_HC_P06_text.txt\", 39], [\"AI_HC_P07_text.txt\", 25], [\"AI_HC_P08_text.txt\", 26], [\"AI_HC_P09_text.txt\", 36], [\"AI_HC_P10_text.txt\", 33],\n",
    "    [\"AI_KB_P01_text.txt\", 47], [\"AI_KB_P02_text.txt\", 44], [\"AI_KB_P03_text.txt\", 47], [\"AI_KB_P04_text.txt\", 37], [\"AI_KB_P05_text.txt\", 43], [\"AI_KB_P06_text.txt\", 43], [\"AI_KB_P07_text.txt\", 44], [\"AI_KB_P08_text.txt\", 47], [\"AI_KB_P09_text.txt\", 46], [\"AI_KB_P10_text.txt\", 45],\n",
    "    [\"AI_SK_P01_text.txt\", 44], [\"AI_SK_P02_text.txt\", 43], [\"AI_SK_P03_text.txt\", 41], [\"AI_SK_P04_text.txt\", 43], [\"AI_SK_P05_text.txt\", 39], [\"AI_SK_P06_text.txt\", 44], [\"AI_SK_P07_text.txt\", 41], [\"AI_SK_P08_text.txt\", 34], [\"AI_SK_P09_text.txt\", 31], [\"AI_SK_P10_text.txt\", 31],\n",
    "    [\"OR_HC_P01_text.txt\", 28], [\"OR_HC_P02_text.txt\", 28], [\"OR_HC_P03_text.txt\", 37], [\"OR_HC_P04_text.txt\", 33], [\"OR_HC_P05_text.txt\", 46], [\"OR_HC_P06_text.txt\", 29], [\"OR_HC_P07_text.txt\", 29], [\"OR_HC_P08_text.txt\", 32], [\"OR_HC_P09_text.txt\", 31], [\"OR_HC_P10_text.txt\", 29],\n",
    "    [\"OR_KB_P01_text.txt\", 45], [\"OR_KB_P02_text.txt\", 64], [\"OR_KB_P03_text.txt\", 49], [\"OR_KB_P04_text.txt\", 49], [\"OR_KB_P05_text.txt\", 46], [\"OR_KB_P06_text.txt\", 51], [\"OR_KB_P07_text.txt\", 49], [\"OR_KB_P08_text.txt\", 40], [\"OR_KB_P09_text.txt\", 37], [\"OR_KB_P10_text.txt\", 38],\n",
    "    [\"OR_SK_P01_text.txt\", 39], [\"OR_SK_P02_text.txt\", 53], [\"OR_SK_P03_text.txt\", 48], [\"OR_SK_P04_text.txt\", 43], [\"OR_SK_P05_text.txt\", 39], [\"OR_SK_P06_text.txt\", 46], [\"OR_SK_P07_text.txt\", 46], [\"OR_SK_P08_text.txt\", 47], [\"OR_SK_P09_text.txt\", 37], [\"OR_SK_P10_text.txt\", 44]\n",
    "]\n",
    "\n",
    "\n",
    "# Convert the matrix to a dictionary for quick lookup\n",
    "lix_dict = {item[0]: item[1] for item in lix}\n"
   ]
  },
  {
   "cell_type": "code",
   "execution_count": 11,
   "metadata": {},
   "outputs": [],
   "source": [
    "def determine_difficulty(value):\n",
    "    if value > 55:\n",
    "        return \"really hard\"\n",
    "    elif 45 <= value <= 54:\n",
    "        return \"hard\"\n",
    "    elif 35 <= value <= 44:\n",
    "        return \"normal\"\n",
    "    elif 25 <= value <= 34:\n",
    "        return \"easy\"\n",
    "    else:\n",
    "        return \"really easy\"\n"
   ]
  },
  {
   "cell_type": "code",
   "execution_count": 12,
   "metadata": {},
   "outputs": [],
   "source": [
    "# Updated labels list\n",
    "updated_labels = []\n",
    "\n",
    "for df, label in zip(features_array, labels_array):\n",
    "    # Assuming 'text_file' is the identifier in each dataframe's column\n",
    "    identifier = df['text_file'].iloc[0]  # Get the first value of 'text_file' column\n",
    "    difficulty_level = determine_difficulty(lix_dict[identifier])\n",
    "    new_label = f\"{label} - {difficulty_level}\"\n",
    "    updated_labels.append(new_label)\n",
    "\n",
    "# Convert updated labels list to numpy array and save\n",
    "updated_labels_array = np.array(updated_labels)\n",
    "np.save('y_label.npy', updated_labels_array)\n"
   ]
  }
 ],
 "metadata": {
  "kernelspec": {
   "display_name": "Python 3",
   "language": "python",
   "name": "python3"
  },
  "language_info": {
   "codemirror_mode": {
    "name": "ipython",
    "version": 3
   },
   "file_extension": ".py",
   "mimetype": "text/x-python",
   "name": "python",
   "nbconvert_exporter": "python",
   "pygments_lexer": "ipython3",
   "version": "3.9.12"
  }
 },
 "nbformat": 4,
 "nbformat_minor": 2
}
