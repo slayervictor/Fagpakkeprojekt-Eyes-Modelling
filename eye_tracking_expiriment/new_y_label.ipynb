{
 "cells": [
  {
   "cell_type": "code",
   "execution_count": 1,
   "metadata": {},
   "outputs": [],
   "source": [
    "import numpy as np\n",
    "\n",
    "# Load the features and labels\n",
    "features_array = np.load('x_data.npy', allow_pickle=True)\n",
    "labels_array = np.load('y_label.npy',  allow_pickle=True)\n"
   ]
  },
  {
   "cell_type": "code",
   "execution_count": 2,
   "metadata": {},
   "outputs": [],
   "source": [
    "lix = [[\"AI_HC_P01\",42],[\"AI_HC_P02\",42],[\"AI_HC_P03\",46],[\"AI_HC_P04\",37],[\"AI_HC_P05\",38],[\"AI_HC_P06\",39],[\"AI_HC_P07\",25],[\"AI_HC_P08\",26],[\"AI_HC_P09\",36],[\"AI_HC_P10\",33],\n",
    "       [\"AI_KB_P01\",47],[\"AI_KB_P02\",44],[\"AI_KB_P03\",47],[\"AI_KB_P04\",37],[\"AI_KB_P05\",43],[\"AI_KB_P06\",43],[\"AI_KB_P07\",44],[\"AI_KB_P08\",47],[\"AI_KB_P09\",46],[\"AI_KB_P10\",45],\n",
    "       [\"AI_SK_P01\",44],[\"AI_SK_P02\",43],[\"AI_SK_P03\",41],[\"AI_SK_P04\",43],[\"AI_SK_P05\",39],[\"AI_SK_P06\",44],[\"AI_SK_P07\",41],[\"AI_SK_P08\",34],[\"AI_SK_P09\",31],[\"AI_SK_P10\",31],\n",
    "       [\"OR_HC_P01\",28],[\"OR_HC_P02\",28],[\"OR_HC_P03\",37],[\"OR_HC_P04\",33],[\"OR_HC_P05\",46],[\"OR_HC_P06\",29],[\"OR_HC_P07\",29],[\"OR_HC_P08\",32],[\"OR_HC_P09\",31],[\"OR_HC_P10\",29],\n",
    "       [\"OR_KB_P01\",45],[\"OR_KB_P02\",64],[\"OR_KB_P03\",49],[\"OR_KB_P04\",49],[\"OR_KB_P05\",46],[\"OR_KB_P06\",51],[\"OR_KB_P07\",49],[\"OR_KB_P08\",40],[\"OR_KB_P09\",37],[\"OR_KB_P10\",38],\n",
    "       [\"OR_SK_P01\",39],[\"OR_SK_P02\",53],[\"OR_SK_P03\",48],[\"OR_SK_P04\",43],[\"OR_SK_P05\",39],[\"OR_SK_P06\",46],[\"OR_SK_P07\",46],[\"OR_SK_P08\",47],[\"OR_SK_P09\",37],[\"OR_SK_P10\",44]]\n",
    "\n",
    "# Convert the matrix to a dictionary for quick lookup\n",
    "lix_dict = {item[0]: item[1] for item in lix}\n"
   ]
  },
  {
   "cell_type": "code",
   "execution_count": 3,
   "metadata": {},
   "outputs": [],
   "source": [
    "def determine_difficulty(value):\n",
    "    if value > 55:\n",
    "        return \"really hard\"\n",
    "    elif 45 <= value <= 54:\n",
    "        return \"hard\"\n",
    "    elif 35 <= value <= 44:\n",
    "        return \"normal\"\n",
    "    elif 25 <= value <= 34:\n",
    "        return \"easy\"\n",
    "    else:\n",
    "        return \"really easy\"\n"
   ]
  },
  {
   "cell_type": "code",
   "execution_count": 4,
   "metadata": {},
   "outputs": [
    {
     "ename": "KeyError",
     "evalue": "'text_file'",
     "output_type": "error",
     "traceback": [
      "\u001b[1;31m---------------------------------------------------------------------------\u001b[0m",
      "\u001b[1;31mKeyError\u001b[0m                                  Traceback (most recent call last)",
      "File \u001b[1;32mc:\\Users\\tobia\\anaconda3\\lib\\site-packages\\pandas\\core\\indexes\\base.py:3621\u001b[0m, in \u001b[0;36mIndex.get_loc\u001b[1;34m(self, key, method, tolerance)\u001b[0m\n\u001b[0;32m   3620\u001b[0m \u001b[38;5;28;01mtry\u001b[39;00m:\n\u001b[1;32m-> 3621\u001b[0m     \u001b[38;5;28;01mreturn\u001b[39;00m \u001b[38;5;28;43mself\u001b[39;49m\u001b[38;5;241;43m.\u001b[39;49m\u001b[43m_engine\u001b[49m\u001b[38;5;241;43m.\u001b[39;49m\u001b[43mget_loc\u001b[49m\u001b[43m(\u001b[49m\u001b[43mcasted_key\u001b[49m\u001b[43m)\u001b[49m\n\u001b[0;32m   3622\u001b[0m \u001b[38;5;28;01mexcept\u001b[39;00m \u001b[38;5;167;01mKeyError\u001b[39;00m \u001b[38;5;28;01mas\u001b[39;00m err:\n",
      "File \u001b[1;32mc:\\Users\\tobia\\anaconda3\\lib\\site-packages\\pandas\\_libs\\index.pyx:136\u001b[0m, in \u001b[0;36mpandas._libs.index.IndexEngine.get_loc\u001b[1;34m()\u001b[0m\n",
      "File \u001b[1;32mc:\\Users\\tobia\\anaconda3\\lib\\site-packages\\pandas\\_libs\\index.pyx:163\u001b[0m, in \u001b[0;36mpandas._libs.index.IndexEngine.get_loc\u001b[1;34m()\u001b[0m\n",
      "File \u001b[1;32mpandas\\_libs\\hashtable_class_helper.pxi:5198\u001b[0m, in \u001b[0;36mpandas._libs.hashtable.PyObjectHashTable.get_item\u001b[1;34m()\u001b[0m\n",
      "File \u001b[1;32mpandas\\_libs\\hashtable_class_helper.pxi:5206\u001b[0m, in \u001b[0;36mpandas._libs.hashtable.PyObjectHashTable.get_item\u001b[1;34m()\u001b[0m\n",
      "\u001b[1;31mKeyError\u001b[0m: 'text_file'",
      "\nThe above exception was the direct cause of the following exception:\n",
      "\u001b[1;31mKeyError\u001b[0m                                  Traceback (most recent call last)",
      "Cell \u001b[1;32mIn [4], line 6\u001b[0m\n\u001b[0;32m      2\u001b[0m updated_labels \u001b[38;5;241m=\u001b[39m []\n\u001b[0;32m      4\u001b[0m \u001b[38;5;28;01mfor\u001b[39;00m df, label \u001b[38;5;129;01min\u001b[39;00m \u001b[38;5;28mzip\u001b[39m(features_array, labels_array):\n\u001b[0;32m      5\u001b[0m     \u001b[38;5;66;03m# Assuming 'text_file' is the identifier in each dataframe's column\u001b[39;00m\n\u001b[1;32m----> 6\u001b[0m     identifier \u001b[38;5;241m=\u001b[39m \u001b[43mdf\u001b[49m\u001b[43m[\u001b[49m\u001b[38;5;124;43m'\u001b[39;49m\u001b[38;5;124;43mtext_file\u001b[39;49m\u001b[38;5;124;43m'\u001b[39;49m\u001b[43m]\u001b[49m\u001b[38;5;241m.\u001b[39miloc[\u001b[38;5;241m0\u001b[39m]  \u001b[38;5;66;03m# Get the first value of 'text_file' column\u001b[39;00m\n\u001b[0;32m      7\u001b[0m     difficulty_level \u001b[38;5;241m=\u001b[39m determine_difficulty(lix_dict[identifier])\n\u001b[0;32m      8\u001b[0m     new_label \u001b[38;5;241m=\u001b[39m \u001b[38;5;124mf\u001b[39m\u001b[38;5;124m\"\u001b[39m\u001b[38;5;132;01m{\u001b[39;00mlabel\u001b[38;5;132;01m}\u001b[39;00m\u001b[38;5;124m - \u001b[39m\u001b[38;5;132;01m{\u001b[39;00mdifficulty_level\u001b[38;5;132;01m}\u001b[39;00m\u001b[38;5;124m\"\u001b[39m\n",
      "File \u001b[1;32mc:\\Users\\tobia\\anaconda3\\lib\\site-packages\\pandas\\core\\frame.py:3505\u001b[0m, in \u001b[0;36mDataFrame.__getitem__\u001b[1;34m(self, key)\u001b[0m\n\u001b[0;32m   3503\u001b[0m \u001b[38;5;28;01mif\u001b[39;00m \u001b[38;5;28mself\u001b[39m\u001b[38;5;241m.\u001b[39mcolumns\u001b[38;5;241m.\u001b[39mnlevels \u001b[38;5;241m>\u001b[39m \u001b[38;5;241m1\u001b[39m:\n\u001b[0;32m   3504\u001b[0m     \u001b[38;5;28;01mreturn\u001b[39;00m \u001b[38;5;28mself\u001b[39m\u001b[38;5;241m.\u001b[39m_getitem_multilevel(key)\n\u001b[1;32m-> 3505\u001b[0m indexer \u001b[38;5;241m=\u001b[39m \u001b[38;5;28;43mself\u001b[39;49m\u001b[38;5;241;43m.\u001b[39;49m\u001b[43mcolumns\u001b[49m\u001b[38;5;241;43m.\u001b[39;49m\u001b[43mget_loc\u001b[49m\u001b[43m(\u001b[49m\u001b[43mkey\u001b[49m\u001b[43m)\u001b[49m\n\u001b[0;32m   3506\u001b[0m \u001b[38;5;28;01mif\u001b[39;00m is_integer(indexer):\n\u001b[0;32m   3507\u001b[0m     indexer \u001b[38;5;241m=\u001b[39m [indexer]\n",
      "File \u001b[1;32mc:\\Users\\tobia\\anaconda3\\lib\\site-packages\\pandas\\core\\indexes\\base.py:3623\u001b[0m, in \u001b[0;36mIndex.get_loc\u001b[1;34m(self, key, method, tolerance)\u001b[0m\n\u001b[0;32m   3621\u001b[0m     \u001b[38;5;28;01mreturn\u001b[39;00m \u001b[38;5;28mself\u001b[39m\u001b[38;5;241m.\u001b[39m_engine\u001b[38;5;241m.\u001b[39mget_loc(casted_key)\n\u001b[0;32m   3622\u001b[0m \u001b[38;5;28;01mexcept\u001b[39;00m \u001b[38;5;167;01mKeyError\u001b[39;00m \u001b[38;5;28;01mas\u001b[39;00m err:\n\u001b[1;32m-> 3623\u001b[0m     \u001b[38;5;28;01mraise\u001b[39;00m \u001b[38;5;167;01mKeyError\u001b[39;00m(key) \u001b[38;5;28;01mfrom\u001b[39;00m \u001b[38;5;21;01merr\u001b[39;00m\n\u001b[0;32m   3624\u001b[0m \u001b[38;5;28;01mexcept\u001b[39;00m \u001b[38;5;167;01mTypeError\u001b[39;00m:\n\u001b[0;32m   3625\u001b[0m     \u001b[38;5;66;03m# If we have a listlike key, _check_indexing_error will raise\u001b[39;00m\n\u001b[0;32m   3626\u001b[0m     \u001b[38;5;66;03m#  InvalidIndexError. Otherwise we fall through and re-raise\u001b[39;00m\n\u001b[0;32m   3627\u001b[0m     \u001b[38;5;66;03m#  the TypeError.\u001b[39;00m\n\u001b[0;32m   3628\u001b[0m     \u001b[38;5;28mself\u001b[39m\u001b[38;5;241m.\u001b[39m_check_indexing_error(key)\n",
      "\u001b[1;31mKeyError\u001b[0m: 'text_file'"
     ]
    }
   ],
   "source": [
    "# Updated labels list\n",
    "updated_labels = []\n",
    "\n",
    "for df, label in zip(features_array, labels_array):\n",
    "    # Assuming 'text_file' is the identifier in each dataframe's column\n",
    "    identifier = df['text_file'].iloc[0]  # Get the first value of 'text_file' column\n",
    "    difficulty_level = determine_difficulty(lix_dict[identifier])\n",
    "    new_label = f\"{label} - {difficulty_level}\"\n",
    "    updated_labels.append(new_label)\n",
    "\n",
    "# Convert updated labels list to numpy array and save\n",
    "updated_labels_array = np.array(updated_labels)\n",
    "np.save('y_label.npy', updated_labels_array)\n"
   ]
  }
 ],
 "metadata": {
  "kernelspec": {
   "display_name": "Python 3",
   "language": "python",
   "name": "python3"
  },
  "language_info": {
   "codemirror_mode": {
    "name": "ipython",
    "version": 3
   },
   "file_extension": ".py",
   "mimetype": "text/x-python",
   "name": "python",
   "nbconvert_exporter": "python",
   "pygments_lexer": "ipython3",
   "version": "3.9.12"
  }
 },
 "nbformat": 4,
 "nbformat_minor": 2
}
