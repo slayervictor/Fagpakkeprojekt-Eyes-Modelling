{
 "cells": [
  {
   "cell_type": "code",
   "execution_count": 185,
   "metadata": {},
   "outputs": [],
   "source": [
    "import numpy as np\n",
    "from sklearn.svm import SVC\n",
    "from sklearn.model_selection import train_test_split\n",
    "from sklearn.metrics import classification_report, accuracy_score\n",
    "import torch\n",
    "import torch.nn as nn\n",
    "import torch.optim as optim\n",
    "from torch.utils.data import DataLoader, TensorDataset\n",
    "from sklearn.model_selection import train_test_split\n"
   ]
  },
  {
   "cell_type": "code",
   "execution_count": 186,
   "metadata": {},
   "outputs": [],
   "source": [
    "# Load features and labels\n",
    "features_array = np.load('x_data.npy', allow_pickle=True)\n",
    "labels_array = np.load('y_label.npy', allow_pickle=True)\n"
   ]
  },
  {
   "cell_type": "code",
   "execution_count": 187,
   "metadata": {},
   "outputs": [],
   "source": [
    "#columns_to_remove = [\n",
    "  # 'font_size', 'right_gaze_point_in_user_x', 'left_gaze_point_in_user_z', \n",
    "  # 'left_gaze_point_on_display_area_y', 'right_gaze_point_on_display_area_x', \n",
    "  # 'right_gaze_point_in_user_z', 'right_gaze_point_in_user_y', \n",
    "  # 'left_gaze_point_in_user_x', 'right_pupil_diameter', \n",
    "   #'left_gaze_origin_in_trackbox_z', 'right_gaze_origin_in_trackbox_y', \n",
    "  # 'left_gaze_origin_in_trackbox_x', 'right_gaze_origin_in_user_z', \n",
    "   #'left_gaze_origin_in_user_x', 'left_gaze_origin_in_user_y', \n",
    "   #'left_gaze_origin_validity', 'right_gaze_origin_validity', \n",
    "  # 'device_time_stamp', 'left_gaze_point_validity', \n",
    " #  'right_gaze_point_validity', 'left_pupil_validity', 'right_pupil_validity'\n",
    "#]\n"
   ]
  },
  {
   "cell_type": "code",
   "execution_count": 188,
   "metadata": {},
   "outputs": [],
   "source": [
    "#processed_dataframes = []\n",
    "#for df in features_array:\n",
    "    #Drop the columns if they exist, ignore errors if some columns don't exist\n",
    "  #  new_df = df.drop(columns=columns_to_remove, errors='ignore')\n",
    " #   processed_dataframes.append(new_df)\n",
    "\n",
    "#features_array = np.array(processed_dataframes, dtype=object)"
   ]
  },
  {
   "cell_type": "code",
   "execution_count": 189,
   "metadata": {},
   "outputs": [],
   "source": [
    "import numpy as np\n",
    "import pandas as pd\n",
    "from sklearn.preprocessing import OneHotEncoder\n",
    "\n",
    "lengths = [df.size for df in features_array]\n",
    "k = int(np.median(lengths))\n",
    "# Example of handling non-numeric data before flattening\n",
    "processed_features = []\n",
    "encoder = OneHotEncoder(sparse=False)  # Initialize one-hot encoder\n",
    "\n",
    "for df in features_array:\n",
    "    # Check and transform non-numeric columns if necessary\n",
    "    for col in df.columns:\n",
    "        if df[col].dtype == object:\n",
    "            # Assuming the non-numeric data is categorical and not text like 'Times New Roman'\n",
    "            transformed = encoder.fit_transform(df[[col]])\n",
    "            df = pd.concat([df.drop(col, axis=1), pd.DataFrame(transformed)], axis=1)\n",
    "    \n",
    "    # Flatten and standardize lengths as before\n",
    "    flattened = df.values.flatten()\n",
    "    # Use a fixed length 'k' determined as before\n",
    "    if len(flattened) > k:\n",
    "        processed_features.append(flattened[:k])\n",
    "    else:\n",
    "        processed_features.append(np.pad(flattened, (0, k - len(flattened)), 'constant'))\n",
    "\n",
    "X = np.array(processed_features)\n",
    "y = labels_array"
   ]
  },
  {
   "cell_type": "code",
   "execution_count": 190,
   "metadata": {},
   "outputs": [
    {
     "name": "stdout",
     "output_type": "stream",
     "text": [
      "NaNs in X: True\n",
      "Infs in X: False\n",
      "NaNs in X after replacement: False\n",
      "Infs in X after replacement: False\n"
     ]
    }
   ],
   "source": [
    "print(\"NaNs in X:\", np.isnan(X).any())\n",
    "print(\"Infs in X:\", np.isinf(X).any())\n",
    "\n",
    "# If there are any, you might want to consider replacing them\n",
    "if np.isnan(X).any() or np.isinf(X).any():\n",
    "    # Replace NaNs with the mean of the column\n",
    "    col_mean = np.nanmean(X, axis=0)  # Mean ignoring NaNs\n",
    "    # Find indices where NaN values are\n",
    "    inds = np.where(np.isnan(X))\n",
    "    # Replace NaNs with the mean of each column\n",
    "    X[inds] = np.take(col_mean, inds[1])\n",
    "\n",
    "    # Replace infinities with large finite numbers\n",
    "    X[np.isinf(X)] = 1e+18  # You might choose a suitable finite number\n",
    "\n",
    "    # Re-check\n",
    "    print(\"NaNs in X after replacement:\", np.isnan(X).any())\n",
    "    print(\"Infs in X after replacement:\", np.isinf(X).any())\n"
   ]
  },
  {
   "cell_type": "code",
   "execution_count": 191,
   "metadata": {},
   "outputs": [],
   "source": [
    "X_train, X_test, y_train, y_test = train_test_split(X, y, test_size=0.2, random_state=224182)\n"
   ]
  },
  {
   "cell_type": "code",
   "execution_count": 192,
   "metadata": {},
   "outputs": [
    {
     "data": {
      "text/plain": [
       "['label_encoder.joblib']"
      ]
     },
     "execution_count": 192,
     "metadata": {},
     "output_type": "execute_result"
    }
   ],
   "source": [
    "from sklearn.preprocessing import LabelEncoder\n",
    "\n",
    "# Initialize the encoder\n",
    "encoder = LabelEncoder()\n",
    "\n",
    "# Fit and transform the labels to integers\n",
    "y_train_encoded = encoder.fit_transform(y_train)\n",
    "y_test_encoded = encoder.transform(y_test)\n",
    "\n",
    "# Save the encoder if you need to decode labels later\n",
    "import joblib\n",
    "joblib.dump(encoder, 'label_encoder.joblib')\n"
   ]
  },
  {
   "cell_type": "code",
   "execution_count": 193,
   "metadata": {},
   "outputs": [],
   "source": [
    "# Convert the numpy arrays to PyTorch tensors\n",
    "X_train_tensor = torch.tensor(X_train, dtype=torch.float32)\n",
    "y_train_tensor = torch.tensor(y_train_encoded, dtype=torch.long)  # Now y_train_encoded contains integers\n",
    "X_test_tensor = torch.tensor(X_test, dtype=torch.float32)\n",
    "y_test_tensor = torch.tensor(y_test_encoded, dtype=torch.long)\n",
    "\n",
    "\n",
    "# Create datasets\n",
    "train_dataset = TensorDataset(X_train_tensor, y_train_tensor)\n",
    "test_dataset = TensorDataset(X_test_tensor, y_test_tensor)\n",
    "\n",
    "# Create dataloaders\n",
    "train_loader = DataLoader(train_dataset, batch_size=64, shuffle=True)\n",
    "test_loader = DataLoader(test_dataset, batch_size=64, shuffle=False)\n"
   ]
  },
  {
   "cell_type": "code",
   "execution_count": 228,
   "metadata": {},
   "outputs": [
    {
     "ename": "AssertionError",
     "evalue": "Size mismatch between tensors",
     "output_type": "error",
     "traceback": [
      "\u001b[1;31m---------------------------------------------------------------------------\u001b[0m",
      "\u001b[1;31mAssertionError\u001b[0m                            Traceback (most recent call last)",
      "Cell \u001b[1;32mIn [228], line 11\u001b[0m\n\u001b[0;32m      8\u001b[0m X_test_tensor \u001b[38;5;241m=\u001b[39m torch\u001b[38;5;241m.\u001b[39mtensor(X_test_reshaped, dtype\u001b[38;5;241m=\u001b[39mtorch\u001b[38;5;241m.\u001b[39mfloat32)\n\u001b[0;32m     10\u001b[0m \u001b[38;5;66;03m# Re-create your DataLoader with the reshaped data\u001b[39;00m\n\u001b[1;32m---> 11\u001b[0m train_dataset \u001b[38;5;241m=\u001b[39m \u001b[43mTensorDataset\u001b[49m\u001b[43m(\u001b[49m\u001b[43mX_train_tensor\u001b[49m\u001b[43m,\u001b[49m\u001b[43m \u001b[49m\u001b[43my_train_tensor\u001b[49m\u001b[43m)\u001b[49m\n\u001b[0;32m     12\u001b[0m test_dataset \u001b[38;5;241m=\u001b[39m TensorDataset(X_test_tensor, y_test_tensor)\n\u001b[0;32m     13\u001b[0m train_loader \u001b[38;5;241m=\u001b[39m DataLoader(train_dataset, batch_size\u001b[38;5;241m=\u001b[39m\u001b[38;5;241m64\u001b[39m, shuffle\u001b[38;5;241m=\u001b[39m\u001b[38;5;28;01mTrue\u001b[39;00m)\n",
      "File \u001b[1;32mc:\\Users\\tobia\\anaconda3\\lib\\site-packages\\torch\\utils\\data\\dataset.py:189\u001b[0m, in \u001b[0;36mTensorDataset.__init__\u001b[1;34m(self, *tensors)\u001b[0m\n\u001b[0;32m    188\u001b[0m \u001b[38;5;28;01mdef\u001b[39;00m \u001b[38;5;21m__init__\u001b[39m(\u001b[38;5;28mself\u001b[39m, \u001b[38;5;241m*\u001b[39mtensors: Tensor) \u001b[38;5;241m-\u001b[39m\u001b[38;5;241m>\u001b[39m \u001b[38;5;28;01mNone\u001b[39;00m:\n\u001b[1;32m--> 189\u001b[0m     \u001b[38;5;28;01massert\u001b[39;00m \u001b[38;5;28mall\u001b[39m(tensors[\u001b[38;5;241m0\u001b[39m]\u001b[38;5;241m.\u001b[39msize(\u001b[38;5;241m0\u001b[39m) \u001b[38;5;241m==\u001b[39m tensor\u001b[38;5;241m.\u001b[39msize(\u001b[38;5;241m0\u001b[39m) \u001b[38;5;28;01mfor\u001b[39;00m tensor \u001b[38;5;129;01min\u001b[39;00m tensors), \u001b[38;5;124m\"\u001b[39m\u001b[38;5;124mSize mismatch between tensors\u001b[39m\u001b[38;5;124m\"\u001b[39m\n\u001b[0;32m    190\u001b[0m     \u001b[38;5;28mself\u001b[39m\u001b[38;5;241m.\u001b[39mtensors \u001b[38;5;241m=\u001b[39m tensors\n",
      "\u001b[1;31mAssertionError\u001b[0m: Size mismatch between tensors"
     ]
    }
   ],
   "source": [
    "# Example reshape, adjust depending on your specific needs and data properties\n",
    "\n",
    "X_train_reshaped = X_train.reshape(-1, 1, 89, 117)  # -1 for batch size, 1 for channel, 89x91 as an example shape\n",
    "X_test_reshaped = X_test.reshape(-1, 1, 89, 117)\n",
    "\n",
    "# Convert reshaped data to tensors\n",
    "X_train_tensor = torch.tensor(X_train_reshaped, dtype=torch.float32)\n",
    "X_test_tensor = torch.tensor(X_test_reshaped, dtype=torch.float32)\n",
    "\n",
    "# Re-create your DataLoader with the reshaped data\n",
    "train_dataset = TensorDataset(X_train_tensor, y_train_tensor)\n",
    "test_dataset = TensorDataset(X_test_tensor, y_test_tensor)\n",
    "train_loader = DataLoader(train_dataset, batch_size=64, shuffle=True)\n",
    "test_loader = DataLoader(test_dataset, batch_size=64, shuffle=False)\n"
   ]
  },
  {
   "cell_type": "code",
   "execution_count": 229,
   "metadata": {},
   "outputs": [
    {
     "name": "stdout",
     "output_type": "stream",
     "text": [
      "Number of samples in X_train after trimming: 1964\n",
      "Number of labels: 982\n"
     ]
    }
   ],
   "source": [
    "print(\"Number of samples in X_train after trimming:\", X_train_trimmed.shape[0])\n",
    "print(\"Number of labels:\", y_train_tensor.shape[0])\n"
   ]
  },
  {
   "cell_type": "code",
   "execution_count": 226,
   "metadata": {},
   "outputs": [
    {
     "name": "stdout",
     "output_type": "stream",
     "text": [
      "Total elements in X_train: 20451132\n",
      "Expected samples after reshape: 1964.0\n",
      "Actual number of labels: 982\n"
     ]
    }
   ],
   "source": [
    "# Calculate total elements and intended product from reshape dimensions\n",
    "total_elements = X_train.size\n",
    "intended_product = 1 * 89 * 117\n",
    "num_intended_samples = total_elements / intended_product\n",
    "\n",
    "print(f\"Total elements in X_train: {total_elements}\")\n",
    "print(f\"Expected samples after reshape: {num_intended_samples}\")\n",
    "print(f\"Actual number of labels: {y_train_tensor.shape[0]}\")\n"
   ]
  },
  {
   "cell_type": "code",
   "execution_count": 223,
   "metadata": {},
   "outputs": [
    {
     "name": "stdout",
     "output_type": "stream",
     "text": [
      "Total elements in X_train: 20451132\n",
      "2\n",
      "117\n",
      "4\n",
      "117\n",
      "89\n",
      "117\n",
      "178\n",
      "117\n",
      "356\n",
      "117\n",
      "491\n",
      "117\n",
      "982\n",
      "117\n",
      "1964\n",
      "117\n",
      "43699\n",
      "117\n",
      "87398\n",
      "117\n",
      "3\n",
      "156\n",
      "89\n",
      "156\n",
      "267\n",
      "156\n",
      "491\n",
      "156\n",
      "1473\n",
      "156\n",
      "43699\n",
      "156\n",
      "2\n",
      "178\n",
      "3\n",
      "178\n",
      "6\n",
      "178\n",
      "9\n",
      "178\n",
      "13\n",
      "178\n",
      "18\n",
      "178\n",
      "26\n",
      "178\n",
      "39\n",
      "178\n",
      "78\n",
      "178\n",
      "117\n",
      "178\n",
      "234\n",
      "178\n",
      "491\n",
      "178\n",
      "982\n",
      "178\n",
      "1473\n",
      "178\n",
      "2946\n",
      "178\n",
      "4419\n",
      "178\n",
      "6383\n",
      "178\n",
      "8838\n",
      "178\n",
      "12766\n",
      "178\n",
      "19149\n",
      "178\n",
      "38298\n",
      "178\n",
      "57447\n",
      "178\n",
      "2\n",
      "234\n",
      "89\n",
      "234\n",
      "178\n",
      "234\n",
      "491\n",
      "234\n",
      "982\n",
      "234\n",
      "43699\n",
      "234\n",
      "87398\n",
      "234\n",
      "2\n",
      "267\n",
      "3\n",
      "267\n",
      "4\n",
      "267\n",
      "6\n",
      "267\n",
      "12\n",
      "267\n",
      "13\n",
      "267\n",
      "26\n",
      "267\n",
      "39\n",
      "267\n",
      "52\n",
      "267\n",
      "78\n",
      "267\n",
      "156\n",
      "267\n",
      "491\n",
      "267\n",
      "982\n",
      "267\n",
      "1473\n",
      "267\n",
      "1964\n",
      "267\n",
      "2946\n",
      "267\n",
      "5892\n",
      "267\n",
      "6383\n",
      "267\n",
      "12766\n",
      "267\n",
      "19149\n",
      "267\n",
      "25532\n",
      "267\n",
      "38298\n",
      "267\n",
      "76596\n",
      "267\n",
      "3\n",
      "356\n",
      "9\n",
      "356\n",
      "13\n",
      "356\n",
      "39\n",
      "356\n",
      "117\n",
      "356\n",
      "491\n",
      "356\n",
      "1473\n",
      "356\n",
      "4419\n",
      "356\n",
      "6383\n",
      "356\n",
      "19149\n",
      "356\n",
      "57447\n",
      "356\n"
     ]
    },
    {
     "ename": "KeyboardInterrupt",
     "evalue": "",
     "output_type": "error",
     "traceback": [
      "\u001b[1;31m---------------------------------------------------------------------------\u001b[0m",
      "\u001b[1;31mKeyboardInterrupt\u001b[0m                         Traceback (most recent call last)",
      "Cell \u001b[1;32mIn [223], line 8\u001b[0m\n\u001b[0;32m      6\u001b[0m \u001b[38;5;28;01mfor\u001b[39;00m i \u001b[38;5;129;01min\u001b[39;00m \u001b[38;5;28mrange\u001b[39m(\u001b[38;5;241m2\u001b[39m,\u001b[38;5;241m100000\u001b[39m):\n\u001b[0;32m      7\u001b[0m     elements_per_image \u001b[38;5;241m=\u001b[39m i \u001b[38;5;241m*\u001b[39m j \n\u001b[1;32m----> 8\u001b[0m     \u001b[38;5;28;01mif\u001b[39;00m total_elements \u001b[38;5;241m/\u001b[39m elements_per_image \u001b[38;5;241m-\u001b[39m \u001b[38;5;28mround\u001b[39m(\u001b[43mtotal_elements\u001b[49m\u001b[43m \u001b[49m\u001b[38;5;241;43m/\u001b[39;49m\u001b[43m \u001b[49m\u001b[43melements_per_image\u001b[49m) \u001b[38;5;241m==\u001b[39m \u001b[38;5;241m0\u001b[39m:\n\u001b[0;32m      9\u001b[0m         possible_batches \u001b[38;5;241m=\u001b[39m total_elements \u001b[38;5;241m/\u001b[39m elements_per_image\n\u001b[0;32m     10\u001b[0m         \u001b[38;5;28mprint\u001b[39m(i)\n",
      "\u001b[1;31mKeyboardInterrupt\u001b[0m: "
     ]
    }
   ],
   "source": [
    "import numpy as np\n",
    "total_elements = X_train.size\n",
    "print(\"Total elements in X_train:\", total_elements)\n",
    "# Calculate possible batches if reshaped to (1, 89, 91)\n",
    "for j in range(91,100000):\n",
    "    for i in range(2,100000):\n",
    "        elements_per_image = i * j \n",
    "        if total_elements / elements_per_image - round(total_elements / elements_per_image) == 0:\n",
    "            possible_batches = total_elements / elements_per_image\n",
    "            print(i)\n",
    "            print(j)\n",
    "            \n",
    "        \n",
    "\n",
    "\n",
    "print(\"Possible full batches:\", possible_batches)\n"
   ]
  },
  {
   "cell_type": "code",
   "execution_count": null,
   "metadata": {},
   "outputs": [],
   "source": [
    "class CNN(nn.Module):\n",
    "    def __init__(self):\n",
    "        super(CNN, self).__init__()\n",
    "        self.conv1 = nn.Conv2d(1, 32, kernel_size=3, padding=1)\n",
    "        self.conv2 = nn.Conv2d(32, 64, kernel_size=3, padding=1)\n",
    "        self.conv3 = nn.Conv2d(64, 128, kernel_size=3, padding=1)\n",
    "        self.pool = nn.MaxPool2d(2, 2)\n",
    "        self.relu = nn.ReLU()\n",
    "        self.flatten = nn.Flatten()\n",
    "        self.fc1 = nn.Linear(15488, 128)  # Update this to match the flattened output size\n",
    "        self.fc2 = nn.Linear(128, 10)  # Assuming 10 classes\n",
    "\n",
    "    def forward(self, x):\n",
    "        x = self.pool(self.relu(self.conv1(x)))\n",
    "        x = self.pool(self.relu(self.conv2(x)))\n",
    "        x = self.pool(self.relu(self.conv3(x)))\n",
    "        x = self.flatten(x)\n",
    "        x = self.relu(self.fc1(x))\n",
    "        x = self.fc2(x)\n",
    "        return x"
   ]
  },
  {
   "cell_type": "code",
   "execution_count": null,
   "metadata": {},
   "outputs": [
    {
     "name": "stdout",
     "output_type": "stream",
     "text": [
      "Epoch 1, Loss: 2.091935396194458\n",
      "Epoch 2, Loss: 1.8006911277770996\n",
      "Epoch 3, Loss: 1.3690986633300781\n",
      "Epoch 4, Loss: 1.3611921072006226\n",
      "Epoch 5, Loss: 1.4667400121688843\n",
      "Epoch 6, Loss: 1.325818657875061\n",
      "Epoch 7, Loss: 1.4907301664352417\n",
      "Epoch 8, Loss: 1.2341179847717285\n",
      "Epoch 9, Loss: 1.2672924995422363\n",
      "Epoch 10, Loss: 1.0320713520050049\n"
     ]
    }
   ],
   "source": [
    "model = CNN()\n",
    "lossarr = []\n",
    "optimizer = optim.Adam(model.parameters(), lr=0.001)\n",
    "criterion = nn.CrossEntropyLoss()\n",
    "\n",
    "# Define the training loop\n",
    "def train_model(num_epochs):\n",
    "    model.train()\n",
    "    for epoch in range(num_epochs):\n",
    "        for data, target in train_loader:\n",
    "            optimizer.zero_grad()\n",
    "            output = model(data)\n",
    "            loss = criterion(output, target)\n",
    "            loss.backward()\n",
    "            optimizer.step()\n",
    "\n",
    "        print(f'Epoch {epoch+1}, Loss: {loss.item()}')\n",
    "        lossarr.append(loss.item())\n",
    "\n",
    "# Train the model\n",
    "train_model(10)  # Adjust the number of epochs as needed\n"
   ]
  },
  {
   "cell_type": "code",
   "execution_count": null,
   "metadata": {},
   "outputs": [
    {
     "data": {
      "image/png": "[encoded data removed]",
      "text/plain": [
       "<Figure size 1000x500 with 1 Axes>"
      ]
     },
     "metadata": {},
     "output_type": "display_data"
    }
   ],
   "source": [
    "import matplotlib.pyplot as plt\n",
    "\n",
    "# Plotting the training loss\n",
    "plt.figure(figsize=(10, 5))\n",
    "plt.plot(lossarr, label='Training Loss')\n",
    "plt.title('Training Loss Over Epochs')\n",
    "plt.xlabel('Epochs')\n",
    "plt.ylabel('Loss')\n",
    "plt.legend()\n",
    "plt.grid(True)\n",
    "plt.show()\n"
   ]
  },
  {
   "cell_type": "code",
   "execution_count": null,
   "metadata": {},
   "outputs": [
    {
     "name": "stdout",
     "output_type": "stream",
     "text": [
      "Accuracy of the model on the test images: 41.86991869918699%\n"
     ]
    }
   ],
   "source": [
    "model.eval()\n",
    "with torch.no_grad():\n",
    "    correct = 0\n",
    "    total = 0\n",
    "    for data, target in test_loader:\n",
    "        outputs = model(data)\n",
    "        _, predicted = torch.max(outputs.data, 1)\n",
    "        total += target.size(0)\n",
    "        correct += (predicted == target).sum().item()\n",
    "\n",
    "    print(f'Accuracy of the model on the test images: {100 * correct / total}%')\n",
    "\n"
   ]
  },
  {
   "cell_type": "code",
   "execution_count": null,
   "metadata": {},
   "outputs": [
    {
     "data": {
      "text/plain": [
       "Counter({'immersive - normal': 53,\n",
       "         'immersive - easy': 27,\n",
       "         'immersive - hard': 34,\n",
       "         'skimming - normal': 450,\n",
       "         'skimming - easy': 278,\n",
       "         'skimming - hard': 360,\n",
       "         'immersive - really hard': 2,\n",
       "         'skimming - really hard': 24})"
      ]
     },
     "execution_count": 143,
     "metadata": {},
     "output_type": "execute_result"
    }
   ],
   "source": [
    "from collections import Counter\n",
    "\n",
    "# Count the occurrences of each label\n",
    "label_counts = Counter(labels_array)\n",
    "label_counts"
   ]
  },
  {
   "cell_type": "code",
   "execution_count": null,
   "metadata": {},
   "outputs": [
    {
     "data": {
      "text/plain": [
       "0.36644951140065146"
      ]
     },
     "execution_count": 144,
     "metadata": {},
     "output_type": "execute_result"
    }
   ],
   "source": [
    "450/len(labels_array)"
   ]
  }
 ],
 "metadata": {
  "kernelspec": {
   "display_name": "Python 3",
   "language": "python",
   "name": "python3"
  },
  "language_info": {
   "codemirror_mode": {
    "name": "ipython",
    "version": 3
   },
   "file_extension": ".py",
   "mimetype": "text/x-python",
   "name": "python",
   "nbconvert_exporter": "python",
   "pygments_lexer": "ipython3",
   "version": "3.9.12"
  }
 },
 "nbformat": 4,
 "nbformat_minor": 2
}
