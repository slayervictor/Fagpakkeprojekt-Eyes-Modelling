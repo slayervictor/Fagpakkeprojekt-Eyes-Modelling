{
 "cells": [
  {
   "cell_type": "code",
   "execution_count": 25,
   "metadata": {},
   "outputs": [],
   "source": [
    "import numpy as np\n",
    "from sklearn.svm import SVC\n",
    "from sklearn.model_selection import train_test_split\n",
    "from sklearn.metrics import classification_report, accuracy_score\n",
    "import torch\n",
    "import torch.nn as nn\n",
    "import torch.optim as optim\n",
    "from torch.utils.data import DataLoader, TensorDataset\n",
    "from sklearn.model_selection import train_test_split\n",
    "# used chatGPT"
   ]
  },
  {
   "cell_type": "code",
   "execution_count": 26,
   "metadata": {},
   "outputs": [],
   "source": [
    "# Load features and labels\n",
    "features_array = np.load('x_data.npy', allow_pickle=True)\n",
    "labels_array = np.load('y_label.npy', allow_pickle=True)\n"
   ]
  },
  {
   "cell_type": "code",
   "execution_count": 27,
   "metadata": {},
   "outputs": [],
   "source": [
    "columns_to_remove = [\n",
    " 'font_size', 'right_gaze_point_in_user_x', 'left_gaze_point_in_user_z', \n",
    "'left_gaze_point_on_display_area_y', 'right_gaze_point_on_display_area_x', \n",
    "'right_gaze_point_in_user_z', 'right_gaze_point_in_user_y', \n",
    " 'left_gaze_point_in_user_x', 'right_pupil_diameter', \n",
    " 'left_gaze_origin_in_trackbox_z', 'right_gaze_origin_in_trackbox_y', \n",
    " 'left_gaze_origin_in_trackbox_x', 'right_gaze_origin_in_user_z', \n",
    " 'left_gaze_origin_in_user_x', 'left_gaze_origin_in_user_y', \n",
    " 'left_gaze_origin_validity', 'right_gaze_origin_validity', \n",
    " 'device_time_stamp', 'left_gaze_point_validity', \n",
    " 'right_gaze_point_validity', 'left_pupil_validity', 'right_pupil_validity'\n",
    "]\n"
   ]
  },
  {
   "cell_type": "code",
   "execution_count": 28,
   "metadata": {},
   "outputs": [],
   "source": [
    "processed_dataframes = []\n",
    "for df in features_array:\n",
    "  #Drop the columns if they exist, ignore errors if some columns don't exist\n",
    "  new_df = df.drop(columns=columns_to_remove, errors='ignore')\n",
    "  processed_dataframes.append(new_df)\n",
    "\n",
    "features_array = np.array(processed_dataframes, dtype=object)"
   ]
  },
  {
   "cell_type": "code",
   "execution_count": 29,
   "metadata": {},
   "outputs": [],
   "source": [
    "import numpy as np\n",
    "import pandas as pd\n",
    "from sklearn.preprocessing import OneHotEncoder\n",
    "\n",
    "lengths = [df.size for df in features_array]\n",
    "k = int(np.median(lengths))\n",
    "# Example of handling non-numeric data before flattening\n",
    "processed_features = []\n",
    "encoder = OneHotEncoder(sparse=False)  # Initialize one-hot encoder\n",
    "\n",
    "for df in features_array:\n",
    "    # Check and transform non-numeric columns if necessary\n",
    "    for col in df.columns:\n",
    "        if df[col].dtype == object:\n",
    "            # Assuming the non-numeric data is categorical and not text like 'Times New Roman'\n",
    "            transformed = encoder.fit_transform(df[[col]])\n",
    "            df = pd.concat([df.drop(col, axis=1), pd.DataFrame(transformed)], axis=1)\n",
    "    \n",
    "    # Flatten and standardize lengths as before\n",
    "    flattened = df.values.flatten()\n",
    "    # Use a fixed length 'k' determined as before\n",
    "    if len(flattened) > k:\n",
    "        processed_features.append(flattened[:k])\n",
    "    else:\n",
    "        processed_features.append(np.pad(flattened, (0, k - len(flattened)), 'constant'))\n",
    "\n",
    "X = np.array(processed_features)\n",
    "y = labels_array"
   ]
  },
  {
   "cell_type": "code",
   "execution_count": 30,
   "metadata": {},
   "outputs": [
    {
     "name": "stdout",
     "output_type": "stream",
     "text": [
      "NaNs in X: True\n",
      "Infs in X: False\n",
      "NaNs in X after replacement: False\n",
      "Infs in X after replacement: False\n"
     ]
    }
   ],
   "source": [
    "print(\"NaNs in X:\", np.isnan(X).any())\n",
    "print(\"Infs in X:\", np.isinf(X).any())\n",
    "\n",
    "# If there are any, you might want to consider replacing them\n",
    "if np.isnan(X).any() or np.isinf(X).any():\n",
    "    # Replace NaNs with the mean of the column\n",
    "    col_mean = np.nanmean(X, axis=0)  # Mean ignoring NaNs\n",
    "    # Find indices where NaN values are\n",
    "    inds = np.where(np.isnan(X))\n",
    "    # Replace NaNs with the mean of each column\n",
    "    X[inds] = np.take(col_mean, inds[1])\n",
    "\n",
    "    # Replace infinities with large finite numbers\n",
    "    X[np.isinf(X)] = 1e+18  # You might choose a suitable finite number\n",
    "\n",
    "    # Re-check\n",
    "    print(\"NaNs in X after replacement:\", np.isnan(X).any())\n",
    "    print(\"Infs in X after replacement:\", np.isinf(X).any())\n"
   ]
  },
  {
   "cell_type": "code",
   "execution_count": 31,
   "metadata": {},
   "outputs": [],
   "source": [
    "X_train, X_test, y_train, y_test = train_test_split(X, y, test_size=0.2)\n"
   ]
  },
  {
   "cell_type": "code",
   "execution_count": 32,
   "metadata": {},
   "outputs": [
    {
     "data": {
      "text/plain": [
       "['label_encoder.joblib']"
      ]
     },
     "execution_count": 32,
     "metadata": {},
     "output_type": "execute_result"
    }
   ],
   "source": [
    "from sklearn.preprocessing import LabelEncoder\n",
    "\n",
    "# Initialize the encoder\n",
    "encoder = LabelEncoder()\n",
    "\n",
    "# Fit and transform the labels to integers\n",
    "y_train_encoded = encoder.fit_transform(y_train)\n",
    "y_test_encoded = encoder.transform(y_test)\n",
    "\n",
    "# Save the encoder if you need to decode labels later\n",
    "import joblib\n",
    "joblib.dump(encoder, 'label_encoder.joblib')\n"
   ]
  },
  {
   "cell_type": "code",
   "execution_count": 33,
   "metadata": {},
   "outputs": [],
   "source": [
    "# Convert the numpy arrays to PyTorch tensors\n",
    "X_train_tensor = torch.tensor(X_train, dtype=torch.float32)\n",
    "y_train_tensor = torch.tensor(y_train_encoded, dtype=torch.long)  # Now y_train_encoded contains integers\n",
    "X_test_tensor = torch.tensor(X_test, dtype=torch.float32)\n",
    "y_test_tensor = torch.tensor(y_test_encoded, dtype=torch.long)\n",
    "\n",
    "\n",
    "# Create datasets\n",
    "train_dataset = TensorDataset(X_train_tensor, y_train_tensor)\n",
    "test_dataset = TensorDataset(X_test_tensor, y_test_tensor)\n",
    "\n",
    "# Create dataloaders\n",
    "train_loader = DataLoader(train_dataset, batch_size=64, shuffle=True)\n",
    "test_loader = DataLoader(test_dataset, batch_size=64, shuffle=False)\n"
   ]
  },
  {
   "cell_type": "code",
   "execution_count": 34,
   "metadata": {},
   "outputs": [],
   "source": [
    "# Example reshape, adjust depending on your specific needs and data properties\n",
    "\n",
    "X_train_reshaped = X_train.reshape(-1, 1, 89, 91)  # -1 for batch size, 1 for channel, 89x91 as an example shape\n",
    "X_test_reshaped = X_test.reshape(-1, 1, 89, 91)\n",
    "\n",
    "# Convert reshaped data to tensors\n",
    "X_train_tensor = torch.tensor(X_train_reshaped, dtype=torch.float32)\n",
    "X_test_tensor = torch.tensor(X_test_reshaped, dtype=torch.float32)\n",
    "\n",
    "# Re-create your DataLoader with the reshaped data\n",
    "train_dataset = TensorDataset(X_train_tensor, y_train_tensor)\n",
    "test_dataset = TensorDataset(X_test_tensor, y_test_tensor)\n",
    "train_loader = DataLoader(train_dataset, batch_size=64, shuffle=True)\n",
    "test_loader = DataLoader(test_dataset, batch_size=64, shuffle=False)\n"
   ]
  },
  {
   "cell_type": "code",
   "execution_count": 35,
   "metadata": {},
   "outputs": [
    {
     "name": "stdout",
     "output_type": "stream",
     "text": [
      "Total elements in X_train: 7953218\n",
      "Expected samples after reshape: 381.8888888888889\n",
      "Actual number of labels: 982\n"
     ]
    }
   ],
   "source": [
    "# Calculate total elements and intended product from reshape dimensions\n",
    "total_elements = X_train.size\n",
    "intended_product = 1 * 89*2 * 117\n",
    "num_intended_samples = total_elements / intended_product\n",
    "\n",
    "print(f\"Total elements in X_train: {total_elements}\")\n",
    "print(f\"Expected samples after reshape: {num_intended_samples}\")\n",
    "print(f\"Actual number of labels: {y_train_tensor.shape[0]}\")\n"
   ]
  },
  {
   "cell_type": "code",
   "execution_count": 36,
   "metadata": {},
   "outputs": [],
   "source": [
    "class CNN(nn.Module):\n",
    "    def __init__(self):\n",
    "        super(CNN, self).__init__()\n",
    "        self.conv1 = nn.Conv2d(1, 32, kernel_size=3, padding=1)\n",
    "        self.conv2 = nn.Conv2d(32, 64, kernel_size=3, padding=1)\n",
    "        self.conv3 = nn.Conv2d(64, 128, kernel_size=3, padding=1)\n",
    "        self.pool = nn.MaxPool2d(2, 2)\n",
    "        self.relu = nn.ReLU()\n",
    "        self.flatten = nn.Flatten()\n",
    "        self.fc1 = nn.Linear(15488, 128)  # Update this to match the flattened output size 15488\n",
    "        self.fc2 = nn.Linear(128, 10)  # Assuming 10 classes\n",
    "\n",
    "    def forward(self, x):\n",
    "        x = self.pool(self.relu(self.conv1(x)))\n",
    "        x = self.pool(self.relu(self.conv2(x)))\n",
    "        x = self.pool(self.relu(self.conv3(x)))\n",
    "        x = self.flatten(x)\n",
    "        x = self.relu(self.fc1(x))\n",
    "        x = self.fc2(x)\n",
    "        return x"
   ]
  },
  {
   "cell_type": "code",
   "execution_count": 37,
   "metadata": {},
   "outputs": [
    {
     "name": "stdout",
     "output_type": "stream",
     "text": [
      "Epoch 1, Loss: 1.6082491874694824\n",
      "Epoch 2, Loss: 1.730913519859314\n",
      "Epoch 3, Loss: 1.2696210145950317\n",
      "Epoch 4, Loss: 1.3106739521026611\n",
      "Epoch 5, Loss: 1.3224395513534546\n",
      "Epoch 6, Loss: 1.3662718534469604\n",
      "Epoch 7, Loss: 1.4018046855926514\n",
      "Epoch 8, Loss: 1.3384850025177002\n",
      "Epoch 9, Loss: 1.483262538909912\n",
      "Epoch 10, Loss: 1.7616524696350098\n",
      "Epoch 11, Loss: 1.626878261566162\n",
      "Epoch 12, Loss: 1.0023702383041382\n",
      "Epoch 13, Loss: 1.3509609699249268\n",
      "Epoch 14, Loss: 1.6084601879119873\n",
      "Epoch 15, Loss: 1.2078944444656372\n"
     ]
    }
   ],
   "source": [
    "model = CNN()\n",
    "lossarr = []\n",
    "optimizer = optim.Adam(model.parameters(), lr=0.001)\n",
    "criterion = nn.CrossEntropyLoss()\n",
    "\n",
    "# Define the training loop\n",
    "def train_model(num_epochs):\n",
    "    model.train()\n",
    "    for epoch in range(num_epochs):\n",
    "        for data, target in train_loader:\n",
    "            optimizer.zero_grad()\n",
    "            output = model(data)\n",
    "            loss = criterion(output, target)\n",
    "            loss.backward()\n",
    "            optimizer.step()\n",
    "\n",
    "        print(f'Epoch {epoch+1}, Loss: {loss.item()}')\n",
    "        lossarr.append(loss.item())\n",
    "\n",
    "# Train the model\n",
    "train_model(15)  # Adjust the number of epochs as needed\n"
   ]
  },
  {
   "cell_type": "code",
   "execution_count": 38,
   "metadata": {},
   "outputs": [
    {
     "data": {
      "image/png": "[encoded data removed]",
      "text/plain": [
       "<Figure size 1000x500 with 1 Axes>"
      ]
     },
     "metadata": {},
     "output_type": "display_data"
    }
   ],
   "source": [
    "import matplotlib.pyplot as plt\n",
    "\n",
    "# Plotting the training loss\n",
    "plt.figure(figsize=(10, 5))\n",
    "plt.plot(lossarr, label='Training Loss')\n",
    "plt.title('Training Loss Over Epochs')\n",
    "plt.xlabel('Epochs')\n",
    "plt.ylabel('Loss')\n",
    "plt.legend()\n",
    "plt.grid(True)\n",
    "plt.show()\n"
   ]
  },
  {
   "cell_type": "code",
   "execution_count": 39,
   "metadata": {},
   "outputs": [
    {
     "name": "stdout",
     "output_type": "stream",
     "text": [
      "Accuracy of the model on the test images: 36.17886178861789%\n"
     ]
    }
   ],
   "source": [
    "model.eval()\n",
    "with torch.no_grad():\n",
    "    correct = 0\n",
    "    total = 0\n",
    "    for data, target in test_loader:\n",
    "        outputs = model(data)\n",
    "        _, predicted = torch.max(outputs.data, 1)\n",
    "        total += target.size(0)\n",
    "        correct += (predicted == target).sum().item()\n",
    "\n",
    "    print(f'Accuracy of the model on the test images: {100 * correct / total}%')\n",
    "\n"
   ]
  },
  {
   "cell_type": "code",
   "execution_count": 40,
   "metadata": {},
   "outputs": [],
   "source": [
    "class DenseNetwork(nn.Module):\n",
    "    def __init__(self, input_size, hidden_layers, output_size):\n",
    "        super(DenseNetwork, self).__init__()\n",
    "        self.layers = nn.Sequential()  # Use Sequential for simpler architecture definition\n",
    "\n",
    "        # Adding the first layer\n",
    "        self.layers.add_module(\"linear_0\", nn.Linear(input_size, hidden_layers[0]))\n",
    "        self.layers.add_module(\"relu_0\", nn.ReLU())\n",
    "\n",
    "        # Adding subsequent hidden layers\n",
    "        for i in range(1, len(hidden_layers)):\n",
    "            self.layers.add_module(f\"linear_{i}\", nn.Linear(hidden_layers[i-1], hidden_layers[i]))\n",
    "            self.layers.add_module(f\"relu_{i}\", nn.ReLU())\n",
    "\n",
    "        # Adding the output layer\n",
    "        self.layers.add_module(\"output\", nn.Linear(hidden_layers[-1], output_size))\n",
    "\n",
    "    def forward(self, x):\n",
    "        x = x.view(x.size(0), -1)  # Ensure input is flattened\n",
    "        return self.layers(x)\n"
   ]
  },
  {
   "cell_type": "code",
   "execution_count": 41,
   "metadata": {},
   "outputs": [
    {
     "name": "stdout",
     "output_type": "stream",
     "text": [
      "Epoch 1, Loss: 37.17522430419922\n",
      "Epoch 2, Loss: 3.2102086544036865\n",
      "Epoch 3, Loss: 21.767850875854492\n",
      "Epoch 4, Loss: 29.795482635498047\n",
      "Epoch 5, Loss: 11.019767761230469\n",
      "Epoch 6, Loss: 6.086557388305664\n",
      "Epoch 7, Loss: 1.7120190858840942\n",
      "Epoch 8, Loss: 10.00841999053955\n",
      "Epoch 9, Loss: 5.704995632171631\n",
      "Epoch 10, Loss: 2.179039239883423\n",
      "Epoch 11, Loss: 1.5101189613342285\n",
      "Epoch 12, Loss: 1.7332885265350342\n",
      "Epoch 13, Loss: 1.8311198949813843\n",
      "Epoch 14, Loss: 1.7171638011932373\n",
      "Epoch 15, Loss: 1.7326385974884033\n",
      "Epoch 16, Loss: 2.0927419662475586\n",
      "Epoch 17, Loss: 1.9532349109649658\n",
      "Epoch 18, Loss: 1.4373563528060913\n",
      "Epoch 19, Loss: 2.3509790897369385\n",
      "Epoch 20, Loss: 1.6792279481887817\n",
      "Epoch 21, Loss: 1.4316353797912598\n",
      "Epoch 22, Loss: 1.5577915906906128\n",
      "Epoch 23, Loss: 2.5921928882598877\n",
      "Epoch 24, Loss: 1.2576771974563599\n",
      "Epoch 25, Loss: 1.0770131349563599\n",
      "Epoch 26, Loss: 1.0471556186676025\n",
      "Epoch 27, Loss: 1.0864900350570679\n",
      "Epoch 28, Loss: 1.5983214378356934\n",
      "Epoch 29, Loss: 1.0894640684127808\n",
      "Epoch 30, Loss: 1.0694637298583984\n",
      "Epoch 31, Loss: 0.8652074337005615\n",
      "Epoch 32, Loss: 2.4555857181549072\n",
      "Epoch 33, Loss: 1.3426457643508911\n",
      "Epoch 34, Loss: 1.478448510169983\n",
      "Epoch 35, Loss: 1.0308432579040527\n",
      "Epoch 36, Loss: 0.8537970185279846\n",
      "Epoch 37, Loss: 1.2157564163208008\n",
      "Epoch 38, Loss: 1.0012881755828857\n",
      "Epoch 39, Loss: 1.43665611743927\n",
      "Epoch 40, Loss: 1.4399700164794922\n",
      "Epoch 41, Loss: 0.9687049984931946\n",
      "Epoch 42, Loss: 1.2285102605819702\n",
      "Epoch 43, Loss: 1.0653071403503418\n",
      "Epoch 44, Loss: 2.03676438331604\n",
      "Epoch 45, Loss: 1.2553786039352417\n",
      "Epoch 46, Loss: 1.1094889640808105\n",
      "Epoch 47, Loss: 1.3572520017623901\n",
      "Epoch 48, Loss: 1.276208758354187\n",
      "Epoch 49, Loss: 1.6155318021774292\n",
      "Epoch 50, Loss: 1.8076903820037842\n",
      "Epoch 51, Loss: 1.151543140411377\n",
      "Epoch 52, Loss: 1.2931482791900635\n",
      "Epoch 53, Loss: 1.194914698600769\n",
      "Epoch 54, Loss: 1.1137140989303589\n",
      "Epoch 55, Loss: 0.8052183389663696\n",
      "Epoch 56, Loss: 1.2854715585708618\n",
      "Epoch 57, Loss: 1.2972242832183838\n",
      "Epoch 58, Loss: 1.1198649406433105\n",
      "Epoch 59, Loss: 2.296581506729126\n",
      "Epoch 60, Loss: 1.703661322593689\n",
      "Epoch 61, Loss: 1.3159780502319336\n",
      "Epoch 62, Loss: 1.2262794971466064\n",
      "Epoch 63, Loss: 1.2592908143997192\n",
      "Epoch 64, Loss: 1.413557767868042\n",
      "Epoch 65, Loss: 1.1174511909484863\n",
      "Epoch 66, Loss: 1.1095281839370728\n",
      "Epoch 67, Loss: 0.8336496353149414\n",
      "Epoch 68, Loss: 0.9429128766059875\n",
      "Epoch 69, Loss: 1.4372645616531372\n",
      "Epoch 70, Loss: 0.8447952270507812\n",
      "Epoch 71, Loss: 1.006100058555603\n",
      "Epoch 72, Loss: 1.2602747678756714\n",
      "Epoch 73, Loss: 1.0696587562561035\n",
      "Epoch 74, Loss: 1.1163394451141357\n",
      "Epoch 75, Loss: 0.8484815955162048\n",
      "Epoch 76, Loss: 1.3768455982208252\n",
      "Epoch 77, Loss: 1.622989535331726\n",
      "Epoch 78, Loss: 1.3017538785934448\n",
      "Epoch 79, Loss: 0.9963184595108032\n",
      "Epoch 80, Loss: 1.1487195491790771\n",
      "Epoch 81, Loss: 0.8674631714820862\n",
      "Epoch 82, Loss: 0.7415926456451416\n",
      "Epoch 83, Loss: 1.333281397819519\n",
      "Epoch 84, Loss: 1.060479998588562\n",
      "Epoch 85, Loss: 1.6727073192596436\n",
      "Epoch 86, Loss: 0.9931790828704834\n",
      "Epoch 87, Loss: 1.1896510124206543\n",
      "Epoch 88, Loss: 1.1470496654510498\n",
      "Epoch 89, Loss: 1.2856793403625488\n",
      "Epoch 90, Loss: 1.086765170097351\n",
      "Epoch 91, Loss: 1.0197052955627441\n",
      "Epoch 92, Loss: 1.1128795146942139\n",
      "Epoch 93, Loss: 0.9980133175849915\n",
      "Epoch 94, Loss: 1.3228046894073486\n",
      "Epoch 95, Loss: 0.8709709644317627\n",
      "Epoch 96, Loss: 0.9930973649024963\n",
      "Epoch 97, Loss: 1.20691978931427\n",
      "Epoch 98, Loss: 1.2563493251800537\n",
      "Epoch 99, Loss: 1.1450499296188354\n",
      "Epoch 100, Loss: 1.0314198732376099\n"
     ]
    }
   ],
   "source": [
    "optimizer = torch.optim.Adam(model.parameters(), lr=0.001)\n",
    "# Initialize the Dense Network\n",
    "# Assuming the shape of each data sample in X_train_reshaped is (1, 89, 91)\n",
    "input_size = 1 * 89 * 91  # Calculate the total number of features after flattening\n",
    "model = DenseNetwork(input_size, [256, 128], 10)  # Now the input size should be correct\n",
    "\n",
    "lossarr2 = []\n",
    "# Training loop\n",
    "optimizer = torch.optim.Adam(model.parameters(), lr=0.001)\n",
    "criterion = nn.CrossEntropyLoss()\n",
    "\n",
    "for epoch in range(100):  # Define num_epochs as per your training configuration\n",
    "    for data, target in train_loader:\n",
    "        optimizer.zero_grad()\n",
    "        output = model(data)\n",
    "        loss = criterion(output, target)\n",
    "        loss.backward()\n",
    "        optimizer.step()\n",
    "    print(f\"Epoch {epoch+1}, Loss: {loss.item()}\")\n",
    "    lossarr2.append(loss.item())\n"
   ]
  },
  {
   "cell_type": "code",
   "execution_count": 42,
   "metadata": {},
   "outputs": [
    {
     "data": {
      "image/png": "[encoded data removed]",
      "text/plain": [
       "<Figure size 1000x500 with 1 Axes>"
      ]
     },
     "metadata": {},
     "output_type": "display_data"
    }
   ],
   "source": [
    "import matplotlib.pyplot as plt\n",
    "\n",
    "# Plotting the training loss\n",
    "plt.figure(figsize=(10, 5))\n",
    "plt.plot(lossarr2, label='Training Loss')\n",
    "plt.title('Training Loss Over Epochs')\n",
    "plt.xlabel('Epochs')\n",
    "plt.ylabel('Loss')\n",
    "plt.legend()\n",
    "plt.grid(True)\n",
    "plt.show()\n"
   ]
  },
  {
   "cell_type": "code",
   "execution_count": 43,
   "metadata": {},
   "outputs": [
    {
     "name": "stdout",
     "output_type": "stream",
     "text": [
      "Accuracy of the model on the test images: 44.3089430894309%\n"
     ]
    }
   ],
   "source": [
    "model.eval()\n",
    "with torch.no_grad():\n",
    "    correct = 0\n",
    "    total = 0\n",
    "    for data, target in test_loader:\n",
    "        outputs = model(data)\n",
    "        _, predicted = torch.max(outputs.data, 1)\n",
    "        total += target.size(0)\n",
    "        correct += (predicted == target).sum().item()\n",
    "\n",
    "    print(f'Accuracy of the model on the test images: {100 * correct / total}%')"
   ]
  },
  {
   "cell_type": "code",
   "execution_count": 44,
   "metadata": {},
   "outputs": [
    {
     "name": "stdout",
     "output_type": "stream",
     "text": [
      "Accuracy: 0.5691056910569106\n",
      "                        precision    recall  f1-score   support\n",
      "\n",
      "      immersive - easy       0.50      0.25      0.33         4\n",
      "      immersive - hard       1.00      0.29      0.44         7\n",
      "    immersive - normal       0.80      0.57      0.67         7\n",
      "       skimming - easy       0.58      0.39      0.47        64\n",
      "       skimming - hard       0.71      0.51      0.60        72\n",
      "     skimming - normal       0.50      0.78      0.61        88\n",
      "skimming - really hard       0.50      0.50      0.50         4\n",
      "\n",
      "              accuracy                           0.57       246\n",
      "             macro avg       0.66      0.47      0.52       246\n",
      "          weighted avg       0.61      0.57      0.56       246\n",
      "\n"
     ]
    }
   ],
   "source": [
    "from sklearn.ensemble import RandomForestClassifier\n",
    "from sklearn.metrics import classification_report, accuracy_score\n",
    "\n",
    "\n",
    "\n",
    "# Flatten the data\n",
    "X_train_flattened = X_train.reshape(X_train.shape[0], -1)\n",
    "X_test_flattened = X_test.reshape(X_test.shape[0], -1)\n",
    "\n",
    "# Initialize the Random Forest classifier\n",
    "rf_model = RandomForestClassifier(n_estimators=250,  # Number of trees in the forest\n",
    "                                  random_state=224182,   # Seed for reproducibility\n",
    "                                  n_jobs=-1)         # Use all available cores\n",
    "\n",
    "# Train the model on the flattened data\n",
    "rf_model.fit(X_train_flattened, y_train)\n",
    "\n",
    "# Predict on the test set using the flattened test data\n",
    "y_pred = rf_model.predict(X_test_flattened)\n",
    "\n",
    "# Evaluate the model\n",
    "accuracy = accuracy_score(y_test, y_pred)\n",
    "print(\"Accuracy:\", accuracy)\n",
    "print(classification_report(y_test, y_pred))\n",
    "\n",
    "#make confusion matrix!"
   ]
  },
  {
   "cell_type": "code",
   "execution_count": 45,
   "metadata": {},
   "outputs": [],
   "source": [
    "#import xgboost as xgb\n",
    "#from sklearn.metrics import classification_report, accuracy_score\n",
    "\n",
    "#from sklearn.preprocessing import LabelEncoder\n",
    "\n",
    "# Initialize LabelEncoder\n",
    "#label_encoder = LabelEncoder()\n",
    "\n",
    "# Fit label encoder and transform the target variable\n",
    "#y_train_encoded = label_encoder.fit_transform(y_train)\n",
    "\n",
    "# Now, y_train_encoded will contain numerical labels instead of strings\n",
    "# You can use these encoded labels to fit your XGBoost classifier\n",
    "\n",
    "\n",
    "\n",
    "# Configure XGBoost as a Random Forest\n",
    "#xgb_rf = xgb.XGBClassifier(\n",
    " #   n_estimators=100,          # Number of trees to train\n",
    " #   num_parallel_tree=100,     # Number of trees to use in parallel (same as n_estimators)\n",
    " #   subsample=1.0,             # Use all data for training each tree\n",
    " #   colsample_bytree=0.8,      # Fraction of features to use for each tree\n",
    " #   max_depth=6,               # Depth of each tree\n",
    "   # booster='gbtree',          # Tree booster\n",
    "  #  objective='multi:softmax', # Objective function for multi-class classification\n",
    "  #  use_label_encoder=False,   # Handle deprecation warning for label encoding\n",
    "  #  eval_metric='mlogloss',    # Metric for multi-class classification\n",
    " #   random_state=42            # Seed for reproducibility\n",
    "#)\n",
    "\n",
    "# Assuming X_train_flattened and y_train are already defined and suitable for training\n",
    "#xgb_rf.fit(X_train_flattened, y_train_encoded)\n",
    "\n",
    "# Predict on the test set\n",
    "#y_pred = xgb_rf.predict(X_test_flattened)\n",
    "\n",
    "# Evaluate the model\n",
    "#accuracy = accuracy_score(y_test, y_pred)\n",
    "#print(\"Accuracy:\", accuracy)\n",
    "#print(classification_report(y_test, y_pred))\n"
   ]
  },
  {
   "cell_type": "code",
   "execution_count": 46,
   "metadata": {},
   "outputs": [
    {
     "data": {
      "text/plain": [
       "Counter({'immersive - normal': 53,\n",
       "         'immersive - easy': 27,\n",
       "         'immersive - hard': 34,\n",
       "         'skimming - normal': 450,\n",
       "         'skimming - easy': 278,\n",
       "         'skimming - hard': 360,\n",
       "         'immersive - really hard': 2,\n",
       "         'skimming - really hard': 24})"
      ]
     },
     "execution_count": 46,
     "metadata": {},
     "output_type": "execute_result"
    }
   ],
   "source": [
    "from collections import Counter\n",
    "\n",
    "# Count the occurrences of each label\n",
    "label_counts = Counter(labels_array)\n",
    "label_counts"
   ]
  },
  {
   "cell_type": "code",
   "execution_count": 47,
   "metadata": {},
   "outputs": [
    {
     "data": {
      "text/plain": [
       "0.36644951140065146"
      ]
     },
     "execution_count": 47,
     "metadata": {},
     "output_type": "execute_result"
    }
   ],
   "source": [
    "450/len(labels_array)"
   ]
  }
 ],
 "metadata": {
  "kernelspec": {
   "display_name": "Python 3",
   "language": "python",
   "name": "python3"
  },
  "language_info": {
   "codemirror_mode": {
    "name": "ipython",
    "version": 3
   },
   "file_extension": ".py",
   "mimetype": "text/x-python",
   "name": "python",
   "nbconvert_exporter": "python",
   "pygments_lexer": "ipython3",
   "version": "3.9.12"
  }
 },
 "nbformat": 4,
 "nbformat_minor": 2
}
