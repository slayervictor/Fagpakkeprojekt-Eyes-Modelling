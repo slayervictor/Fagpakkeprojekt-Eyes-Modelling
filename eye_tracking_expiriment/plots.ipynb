{
 "cells": [
  {
   "cell_type": "code",
   "execution_count": 4,
   "metadata": {},
   "outputs": [],
   "source": [
    "from IDT_.idt_algo import IDT\n",
    "from IDT_.ihmm_algo.ihmm import IHMM\n",
    "import pandas as pd\n",
    "import numpy as np\n",
    "import matplotlib.pyplot as plt\n",
    "import warnings "
   ]
  },
  {
   "cell_type": "markdown",
   "metadata": {},
   "source": [
    "# F-Shape Heatmap Plot:"
   ]
  },
  {
   "cell_type": "code",
   "execution_count": 19,
   "metadata": {},
   "outputs": [
    {
     "ename": "SyntaxError",
     "evalue": "(unicode error) 'unicodeescape' codec can't decode bytes in position 26-27: truncated \\xXX escape (3932322325.py, line 1)",
     "output_type": "error",
     "traceback": [
      "\u001b[1;36m  Cell \u001b[1;32mIn [19], line 1\u001b[1;36m\u001b[0m\n\u001b[1;33m    gaze = pd.read_csv('../eye_tracking_expiriment\\x_data_4.csv')\u001b[0m\n\u001b[1;37m                                                                ^\u001b[0m\n\u001b[1;31mSyntaxError\u001b[0m\u001b[1;31m:\u001b[0m (unicode error) 'unicodeescape' codec can't decode bytes in position 26-27: truncated \\xXX escape\n"
     ]
    }
   ],
   "source": [
    "gaze = pd.read_csv('../eye_tracking_expiriment\\x_data_4.csv')\n",
    "# Pivot table to create a heatmap\n",
    "heatmap = gaze.pivot_table(values='x_right', index='y_right', aggfunc='count')\n",
    "\n",
    "# Create a heatmap\n",
    "plt.pcolormesh(heatmap, cmap='hot')\n",
    "plt.xlabel('X-Right Coordinate')\n",
    "plt.ylabel('Y-Right Coordinate')\n",
    "plt.title('Heatmap of X-Right Gaze Data')\n",
    "plt.colorbar()\n",
    "plt.show()"
   ]
  }
 ],
 "metadata": {
  "kernelspec": {
   "display_name": "Python 3",
   "language": "python",
   "name": "python3"
  },
  "language_info": {
   "codemirror_mode": {
    "name": "ipython",
    "version": 3
   },
   "file_extension": ".py",
   "mimetype": "text/x-python",
   "name": "python",
   "nbconvert_exporter": "python",
   "pygments_lexer": "ipython3",
   "version": "3.10.6"
  }
 },
 "nbformat": 4,
 "nbformat_minor": 2
}
