{
 "cells": [
  {
   "cell_type": "code",
   "execution_count": 7,
   "metadata": {},
   "outputs": [],
   "source": [
    "import tkinter as tk\n",
    "from itertools import cycle\n",
    "\n",
    "# Define the texts, font sizes, and font families\n",
    "with open('text.txt','r') as file:\n",
    "    texts=[line.strip() for line in file.readlines()]\n",
    "texts = cycle(texts)\n",
    "#texts = cycle([\"text.txt\", \"mom\", \"dad\"])\n",
    "font_sizes = cycle([24, 30, 36, 42, 48])\n",
    "font_families = cycle([\"HecatonchiresExp-A-77-240-77\", \"Verdana\", \"Times New Roman\", \"Helvetica\", \"Courier\"])\n",
    "\n",
    "# Create the main window\n",
    "root = tk.Tk()\n",
    "root.title(\"Text Display\")\n",
    "\n",
    "# Set initial text, size, and family\n",
    "current_text = next(texts)\n",
    "current_size = next(font_sizes)\n",
    "current_family = next(font_families)\n",
    "\n",
    "# Set the window size and disable resizing\n",
    "window_width = 800\n",
    "window_height = 600\n",
    "root.geometry(f\"{window_width}x{window_height}\")\n",
    "root.resizable(False, False)  # Prevents resizing in both dimensions\n",
    "\n",
    "# Define a label to display the text\n",
    "text_label = tk.Label(root, text=current_text, font=(current_family, current_size))\n",
    "text_label.pack(padx=20, pady=20)\n",
    "\n",
    "# Function to update text, size, and family\n",
    "def update_content(event):\n",
    "    global current_text, current_size, current_family\n",
    "    current_text = next(texts)\n",
    "    current_size = next(font_sizes)\n",
    "    current_family = next(font_families)\n",
    "    text_label.config(text=current_text, font=(current_family, current_size))\n",
    "\n",
    "# Bind the spacebar key to the update_content function\n",
    "root.bind('<space>', update_content)\n",
    "\n",
    "# Start the GUI event loop\n",
    "root.mainloop()\n"
   ]
  }
 ],
 "metadata": {
  "kernelspec": {
   "display_name": "Python 3",
   "language": "python",
   "name": "python3"
  },
  "language_info": {
   "codemirror_mode": {
    "name": "ipython",
    "version": 3
   },
   "file_extension": ".py",
   "mimetype": "text/x-python",
   "name": "python",
   "nbconvert_exporter": "python",
   "pygments_lexer": "ipython3",
   "version": "3.9.13"
  }
 },
 "nbformat": 4,
 "nbformat_minor": 2
}
